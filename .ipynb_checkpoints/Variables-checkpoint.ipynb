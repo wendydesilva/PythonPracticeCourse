{
 "cells": [
  {
   "cell_type": "markdown",
   "id": "5329b9d1-56c0-4f99-9c31-4f58ac23a65b",
   "metadata": {},
   "source": [
    "Exercise #1\n",
    "Create a variable with name x and a value of 10. Execute.\n",
    "\n",
    "Tell the computer to show you the value of that variable without utilizing the print() function, similar to what you would do in Jupyter."
   ]
  },
  {
   "cell_type": "code",
   "execution_count": 11,
   "id": "34d8e1d8-5c11-4f48-9e0a-63a1b66bdea7",
   "metadata": {},
   "outputs": [
    {
     "data": {
      "text/plain": [
       "10"
      ]
     },
     "execution_count": 11,
     "metadata": {},
     "output_type": "execute_result"
    }
   ],
   "source": [
    "x = 10\n",
    "x"
   ]
  },
  {
   "cell_type": "markdown",
   "id": "e16f4c9e-f247-44a7-a404-e9046937b57a",
   "metadata": {},
   "source": [
    "Exercise #2\n",
    "Create a variable with name x and a value of 10. Execute\n",
    "\n",
    "Can you think of a second way to obtain the same result?"
   ]
  },
  {
   "cell_type": "code",
   "execution_count": 13,
   "id": "9494fc58-c24d-4480-a411-33d05f1af002",
   "metadata": {},
   "outputs": [
    {
     "name": "stdout",
     "output_type": "stream",
     "text": [
      "10\n"
     ]
    }
   ],
   "source": [
    "x = 10\n",
    "print(x)"
   ]
  },
  {
   "cell_type": "markdown",
   "id": "470ba50e-63c7-4a64-952f-8b3c1326d2b0",
   "metadata": {},
   "source": [
    "Exercise #3\n",
    "On the same line, create four new variables: a, b, c, and d, that are equal to 10, 20, 30, and 40, respectively."
   ]
  },
  {
   "cell_type": "code",
   "execution_count": 15,
   "id": "a2a7ca3b-703a-4dc3-9cc9-d6cf3f91b884",
   "metadata": {},
   "outputs": [],
   "source": [
    "a,b,c,d = (10,20,30,40)"
   ]
  },
  {
   "cell_type": "markdown",
   "id": "627ed983-22a7-48f5-bbb7-bce383954141",
   "metadata": {},
   "source": [
    "Exercise #4\n",
    "On the same line, create four new variables: a, b, c, and d, that are equal to 10, 20, 30, and 40, respectively.\n",
    "\n",
    "Tell the computer to show you the value corresponding to the variable b.\n",
    "\n",
    "Do the same for d."
   ]
  },
  {
   "cell_type": "code",
   "execution_count": 16,
   "id": "38a6bd42-d885-4506-8be3-300182aeee8c",
   "metadata": {},
   "outputs": [
    {
     "name": "stdout",
     "output_type": "stream",
     "text": [
      "20\n",
      "40\n"
     ]
    }
   ],
   "source": [
    "a,b,c,d = (10,20,30,40)\n",
    "print(b)\n",
    "print(d)"
   ]
  }
 ],
 "metadata": {
  "kernelspec": {
   "display_name": "Python [conda env:base] *",
   "language": "python",
   "name": "conda-base-py"
  },
  "language_info": {
   "codemirror_mode": {
    "name": "ipython",
    "version": 3
   },
   "file_extension": ".py",
   "mimetype": "text/x-python",
   "name": "python",
   "nbconvert_exporter": "python",
   "pygments_lexer": "ipython3",
   "version": "3.13.5"
  }
 },
 "nbformat": 4,
 "nbformat_minor": 5
}
