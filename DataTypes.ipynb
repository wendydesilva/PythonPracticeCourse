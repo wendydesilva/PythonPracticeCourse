{
 "cells": [
  {
   "cell_type": "markdown",
   "id": "9bf191e7-1dd7-48fd-b6de-b031a5671fe8",
   "metadata": {},
   "source": [
    "Numbers and Boolean Values - Exercise #1\n",
    "Create a variable a equal to \"True\".\n",
    "\n",
    "Check its type."
   ]
  },
  {
   "cell_type": "code",
   "execution_count": 2,
   "id": "2cfa6e27-a695-4617-95d5-f9a74390ea87",
   "metadata": {},
   "outputs": [
    {
     "data": {
      "text/plain": [
       "bool"
      ]
     },
     "execution_count": 2,
     "metadata": {},
     "output_type": "execute_result"
    }
   ],
   "source": [
    "a = True\n",
    "type(a)"
   ]
  },
  {
   "cell_type": "markdown",
   "id": "8e6f5126-6768-4d5d-af28-3f4913a89b65",
   "metadata": {},
   "source": [
    "Create a variable b equal to 99.\n",
    "\n",
    "Check its type."
   ]
  },
  {
   "cell_type": "code",
   "execution_count": 4,
   "id": "d9a8015d-46d5-4edf-9bac-43b16d97e4ca",
   "metadata": {},
   "outputs": [
    {
     "data": {
      "text/plain": [
       "int"
      ]
     },
     "execution_count": 4,
     "metadata": {},
     "output_type": "execute_result"
    }
   ],
   "source": [
    "b = 99\n",
    "type(b)"
   ]
  },
  {
   "cell_type": "markdown",
   "id": "022360b8-7205-48ce-9bd9-69de5c66c245",
   "metadata": {},
   "source": [
    "Check the type of the value 0.99"
   ]
  },
  {
   "cell_type": "code",
   "execution_count": 6,
   "id": "605ff0b7-bcea-4e47-a64b-69242c6ce44b",
   "metadata": {},
   "outputs": [
    {
     "data": {
      "text/plain": [
       "float"
      ]
     },
     "execution_count": 6,
     "metadata": {},
     "output_type": "execute_result"
    }
   ],
   "source": [
    "type(0.99)"
   ]
  },
  {
   "cell_type": "markdown",
   "id": "2f420776-962b-49eb-baa6-3ca016fe2c2d",
   "metadata": {},
   "source": [
    "Create a variable b equal to 99.\n",
    "\n",
    "Turn b into a float.\n",
    "\n",
    "Consider using the print() function as a tool to help you solve this exercise."
   ]
  },
  {
   "cell_type": "code",
   "execution_count": 11,
   "id": "fe354e0c-4835-47cb-8338-575eab633dd4",
   "metadata": {
    "scrolled": true
   },
   "outputs": [
    {
     "name": "stdout",
     "output_type": "stream",
     "text": [
      "99.0\n"
     ]
    }
   ],
   "source": [
    "b = 99\n",
    "float(b)\n",
    "print(float(b))"
   ]
  },
  {
   "cell_type": "markdown",
   "id": "028f255c-d076-4101-bb4c-f941d3199504",
   "metadata": {},
   "source": [
    "Exercise #5\n",
    "Turn 0.99 into an integer."
   ]
  },
  {
   "cell_type": "code",
   "execution_count": 12,
   "id": "92befc75-ec3a-410c-8850-9884d1350839",
   "metadata": {},
   "outputs": [
    {
     "name": "stdout",
     "output_type": "stream",
     "text": [
      "0\n"
     ]
    }
   ],
   "source": [
    "print(int(0.99))\n"
   ]
  }
 ],
 "metadata": {
  "kernelspec": {
   "display_name": "Python [conda env:base] *",
   "language": "python",
   "name": "conda-base-py"
  },
  "language_info": {
   "codemirror_mode": {
    "name": "ipython",
    "version": 3
   },
   "file_extension": ".py",
   "mimetype": "text/x-python",
   "name": "python",
   "nbconvert_exporter": "python",
   "pygments_lexer": "ipython3",
   "version": "3.13.5"
  }
 },
 "nbformat": 4,
 "nbformat_minor": 5
}
