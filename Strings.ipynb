{
 "cells": [
  {
   "cell_type": "markdown",
   "id": "3ea29f25-fb82-4eb7-bd52-d89496c2cf40",
   "metadata": {},
   "source": [
    "Strings - Exercise #1\n",
    "\n",
    "Assign the value of 100 to the variable m.\n",
    "\n",
    "With the help of the variable m, write one line of code where the output after execution would be 100 days.\n",
    "\n",
    "Hint: You could provide four answers to this question!"
   ]
  },
  {
   "cell_type": "code",
   "execution_count": 9,
   "id": "8177fc12-fb65-409e-9285-50289ccc523c",
   "metadata": {},
   "outputs": [
    {
     "name": "stdout",
     "output_type": "stream",
     "text": [
      "100 days\n"
     ]
    },
    {
     "data": {
      "text/plain": [
       "'100 days'"
      ]
     },
     "execution_count": 9,
     "metadata": {},
     "output_type": "execute_result"
    }
   ],
   "source": [
    "m = 100\n",
    "print(str(m) + \" days\")\n",
    "str(m) + \" days\"\n"
   ]
  },
  {
   "cell_type": "markdown",
   "id": "22a1edb4-30dd-4800-9e96-9b19cd35bedc",
   "metadata": {},
   "source": [
    "Produce an output equal to It's cool, isn't it? ."
   ]
  },
  {
   "cell_type": "code",
   "execution_count": 12,
   "id": "44335206-ec84-4e72-b4f9-56f1b576feb6",
   "metadata": {},
   "outputs": [
    {
     "name": "stdout",
     "output_type": "stream",
     "text": [
      "It's cool, isn't it?\n"
     ]
    }
   ],
   "source": [
    "print(\"It's cool, isn't it?\")"
   ]
  },
  {
   "cell_type": "markdown",
   "id": "2acedfc1-8d1d-482e-b0e9-142aad1f297b",
   "metadata": {},
   "source": [
    "Strings - Exercise #3\n",
    "\n",
    "Fix the string below.\n",
    "\n",
    "'Don't be shy"
   ]
  },
  {
   "cell_type": "code",
   "execution_count": 17,
   "id": "474480a3-0081-408e-b3b8-51d750566207",
   "metadata": {},
   "outputs": [
    {
     "name": "stdout",
     "output_type": "stream",
     "text": [
      "Don't be shy\n"
     ]
    }
   ],
   "source": [
    "print(\"Don\\'t be shy\")"
   ]
  },
  {
   "cell_type": "markdown",
   "id": "5cde8509-1888-4cea-8228-298324bd6a4c",
   "metadata": {},
   "source": [
    "Strings - Exercise #4\n",
    "\n",
    "Produce an output equal to Click \"OK\"."
   ]
  },
  {
   "cell_type": "code",
   "execution_count": 20,
   "id": "66edb9ba-0ca3-4d52-80cb-6c52b9efecc1",
   "metadata": {},
   "outputs": [
    {
     "name": "stdout",
     "output_type": "stream",
     "text": [
      "Click \"OK\"\n"
     ]
    }
   ],
   "source": [
    "print(\"Click \\\"OK\\\"\")"
   ]
  },
  {
   "cell_type": "markdown",
   "id": "96798f33-e01a-4fef-8170-8047e8ba7e4d",
   "metadata": {},
   "source": [
    "Strings - Exercise #5\n",
    "\n",
    "Include a trailing comma in your line of code to produce Big Houses."
   ]
  },
  {
   "cell_type": "code",
   "execution_count": 21,
   "id": "186a7619-6ade-4cac-a737-ae1e77e0890f",
   "metadata": {},
   "outputs": [
    {
     "name": "stdout",
     "output_type": "stream",
     "text": [
      "Big Houses\n"
     ]
    }
   ],
   "source": [
    "print(\"Big\", \"Houses\")"
   ]
  }
 ],
 "metadata": {
  "kernelspec": {
   "display_name": "Python [conda env:base] *",
   "language": "python",
   "name": "conda-base-py"
  },
  "language_info": {
   "codemirror_mode": {
    "name": "ipython",
    "version": 3
   },
   "file_extension": ".py",
   "mimetype": "text/x-python",
   "name": "python",
   "nbconvert_exporter": "python",
   "pygments_lexer": "ipython3",
   "version": "3.13.5"
  }
 },
 "nbformat": 4,
 "nbformat_minor": 5
}
